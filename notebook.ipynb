{
 "cells": [
  {
   "cell_type": "code",
   "execution_count": 9,
   "metadata": {},
   "outputs": [],
   "source": [
    "from langchain.chat_models import ChatOpenAI\n",
    "from langchain.prompts import ChatPromptTemplate\n",
    "from langchain.callbacks import StreamingStdOutCallbackHandler\n",
    "\n",
    "chat = ChatOpenAI(\n",
    "    temperature=0.1,\n",
    "    streaming=True,\n",
    "    callbacks=[StreamingStdOutCallbackHandler()])\n"
   ]
  },
  {
   "cell_type": "code",
   "execution_count": 10,
   "metadata": {},
   "outputs": [],
   "source": [
    "from langchain.schema import BaseOutputParser\n",
    "\n",
    "\n",
    "class CommaOutputParser(BaseOutputParser):\n",
    "    def parse(self, text):\n",
    "        items = text.strip().split(\",\")\n",
    "        return list(map(str.strip, items))"
   ]
  },
  {
   "cell_type": "code",
   "execution_count": 11,
   "metadata": {},
   "outputs": [],
   "source": [
    "haiku_prompt = ChatPromptTemplate.from_messages(\n",
    "    [\n",
    "        (\n",
    "            \"system\",\n",
    "            \"You are specialized in writing Haikus about programming language. Please create Haikus\",\n",
    "        ),\n",
    "        (\"human\", \"please make Haikus for {language}\"),\n",
    "    ]\n",
    ")\n",
    "\n",
    "explain_prompt = ChatPromptTemplate.from_messages(\n",
    "    [\n",
    "        (\n",
    "            \"system\",\n",
    "            \"You are specialized in explaining Haikus. Please explain the Haikus\",\n",
    "        ),\n",
    "        (\"human\", \"{haikus}\"),\n",
    "    ]\n",
    ")"
   ]
  },
  {
   "cell_type": "code",
   "execution_count": 12,
   "metadata": {},
   "outputs": [
    {
     "name": "stdout",
     "output_type": "stream",
     "text": [
      "Indentation key,\n",
      "Python's syntax clean and neat,\n",
      "Code flows like a stream.\n",
      "\n",
      "Dynamic typing,\n",
      "Python's flexibility,\n",
      "Makes tasks a breeze.\n",
      "\n",
      "Libraries galore,\n",
      "Python's ecosystem vast,\n",
      "Endless possibilities.These Haikus beautifully capture the essence of Python programming language. Let's break them down:\n",
      "\n",
      "1. \"Indentation key,\n",
      "Python's syntax clean and neat,\n",
      "Code flows like a stream.\"\n",
      "\n",
      "This Haiku highlights one of the distinctive features of Python - its use of indentation for code structure. The clean and neat syntax of Python allows code to flow smoothly like a stream, making it easy to read and understand.\n",
      "\n",
      "2. \"Dynamic typing,\n",
      "Python's flexibility,\n",
      "Makes tasks a breeze.\"\n",
      "\n",
      "Here, the Haiku emphasizes Python's dynamic typing, which allows variables to change types as needed. This flexibility in data types makes tasks easier to accomplish in Python, as developers do not need to explicitly declare variable types.\n",
      "\n",
      "3. \"Libraries galore,\n",
      "Python's ecosystem vast,\n",
      "Endless possibilities.\"\n",
      "\n",
      "In this Haiku, the focus is on Python's rich ecosystem of libraries. Python is known for its extensive collection of libraries that cover a wide range of functionalities. This vast library ecosystem opens up endless possibilities for developers, enabling them to easily access pre-built solutions for various tasks.\n",
      "\n",
      "Overall, these Haikus beautifully capture the simplicity, flexibility, and vast potential of Python as a programming language."
     ]
    },
    {
     "data": {
      "text/plain": [
       "AIMessageChunk(content='These Haikus beautifully capture the essence of Python programming language. Let\\'s break them down:\\n\\n1. \"Indentation key,\\nPython\\'s syntax clean and neat,\\nCode flows like a stream.\"\\n\\nThis Haiku highlights one of the distinctive features of Python - its use of indentation for code structure. The clean and neat syntax of Python allows code to flow smoothly like a stream, making it easy to read and understand.\\n\\n2. \"Dynamic typing,\\nPython\\'s flexibility,\\nMakes tasks a breeze.\"\\n\\nHere, the Haiku emphasizes Python\\'s dynamic typing, which allows variables to change types as needed. This flexibility in data types makes tasks easier to accomplish in Python, as developers do not need to explicitly declare variable types.\\n\\n3. \"Libraries galore,\\nPython\\'s ecosystem vast,\\nEndless possibilities.\"\\n\\nIn this Haiku, the focus is on Python\\'s rich ecosystem of libraries. Python is known for its extensive collection of libraries that cover a wide range of functionalities. This vast library ecosystem opens up endless possibilities for developers, enabling them to easily access pre-built solutions for various tasks.\\n\\nOverall, these Haikus beautifully capture the simplicity, flexibility, and vast potential of Python as a programming language.')"
      ]
     },
     "execution_count": 12,
     "metadata": {},
     "output_type": "execute_result"
    }
   ],
   "source": [
    "haiku_chain = haiku_prompt | chat\n",
    "explain_chain = explain_prompt | chat\n",
    "final_chain = {\"haikus\":haiku_chain} | explain_chain\n",
    "\n",
    "final_chain.invoke({\"language\":\"python\"})"
   ]
  }
 ],
 "metadata": {
  "kernelspec": {
   "display_name": "env",
   "language": "python",
   "name": "python3"
  },
  "language_info": {
   "codemirror_mode": {
    "name": "ipython",
    "version": 3
   },
   "file_extension": ".py",
   "mimetype": "text/x-python",
   "name": "python",
   "nbconvert_exporter": "python",
   "pygments_lexer": "ipython3",
   "version": "3.11.6"
  }
 },
 "nbformat": 4,
 "nbformat_minor": 2
}
