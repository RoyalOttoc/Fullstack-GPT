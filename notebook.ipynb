{
 "cells": [
  {
   "cell_type": "code",
   "execution_count": 1,
   "metadata": {},
   "outputs": [
    {
     "name": "stdout",
     "output_type": "stream",
     "text": [
      "AI:\n",
      "        I know these:\n",
      "        Directors: Anthony Russo, Joe Russo\n",
      "        Main Cast: Robert Downey Jr., Chris Evans, Mark Ruffalo, Chris Hemsworth, Scarlett Johansson, Jeremy Renner\n",
      "        Budget: $356 million\n",
      "        Box Office Revenue: $2.798 billion\n",
      "        Genre: Superhero, Action, Adventure\n",
      "        Synopsis: In the aftermath of the devastating events of \"Avengers: Infinity War,\" the remaining Avengers must come together to undo the actions of the villainous Thanos and restore balance to the universe. With the fate of the world at stake, the Avengers embark on a final, epic battle that will determine the future of all existence."
     ]
    },
    {
     "data": {
      "text/plain": [
       "AIMessageChunk(content='AI:\\n        I know these:\\n        Directors: Anthony Russo, Joe Russo\\n        Main Cast: Robert Downey Jr., Chris Evans, Mark Ruffalo, Chris Hemsworth, Scarlett Johansson, Jeremy Renner\\n        Budget: $356 million\\n        Box Office Revenue: $2.798 billion\\n        Genre: Superhero, Action, Adventure\\n        Synopsis: In the aftermath of the devastating events of \"Avengers: Infinity War,\" the remaining Avengers must come together to undo the actions of the villainous Thanos and restore balance to the universe. With the fate of the world at stake, the Avengers embark on a final, epic battle that will determine the future of all existence.')"
      ]
     },
     "execution_count": 1,
     "metadata": {},
     "output_type": "execute_result"
    }
   ],
   "source": [
    "from langchain.chat_models import ChatOpenAI\n",
    "from langchain.prompts.few_shot import FewShotPromptTemplate\n",
    "from langchain.callbacks import StreamingStdOutCallbackHandler\n",
    "from langchain.prompts.prompt import PromptTemplate\n",
    "\n",
    "chat = ChatOpenAI(\n",
    "    temperature=0.1,\n",
    "    streaming=True,\n",
    "    callbacks=[StreamingStdOutCallbackHandler()])\n",
    "\n",
    "examples = [\n",
    "    {\n",
    "        \"question\": \"What do you know about Inception?\",\n",
    "        \"answer\": \"\"\"\n",
    "        I know these:\n",
    "        Director: Christopher Nolan\n",
    "        Main Cast: Leonardo DiCaprio, Joseph Gordon-Levitt, Ellen Page, Tom Hardy\n",
    "        Budget: $160 million\n",
    "        Box Office Revenue: $836.8 million\n",
    "        Genre: Science Fiction, Action, Thriller\n",
    "        Synopsis: Dom Cobb, a skilled thief who steals information by infiltrating his targets' dreams, is offered a chance to have his criminal record erased. To do so, he must successfully plant an idea into a target's subconscious — a process known as inception. As Cobb and his team delve deeper into dream layers, the line between reality and illusion begins to blur.\n",
    "        \"\"\",\n",
    "    },\n",
    "    {\n",
    "        \"question\": \"What do you know about Titanic?\",\n",
    "        \"answer\": \"\"\"\n",
    "        I know these:\n",
    "        Director: James Cameron\n",
    "        Main Cast: Leonardo DiCaprio, Kate Winslet, Billy Zane, Kathy Bates\n",
    "        Budget: $200 million\n",
    "        Box Office Revenue: $2.25 billion\n",
    "        Genre: Romance, Drama, Historical\n",
    "        Synopsis: The epic love story of Jack Dawson and Rose DeWitt Bukater unfolds on the ill-fated maiden voyage of the RMS Titanic. Despite their different social classes, the two form a deep connection. However, their romance is cut short by the catastrophic sinking of the ship, turning their story into a timeless tale of love, sacrifice, and survival.\n",
    "        \"\"\",\n",
    "    },\n",
    "    {\n",
    "        \"question\": \"What do you know about The Godfather?\",\n",
    "        \"answer\": \"\"\"\n",
    "        I know these:\n",
    "        Director: Francis Ford Coppola\n",
    "        Main Cast: Marlon Brando, Al Pacino, James Caan, Robert Duvall\n",
    "        Budget: $6-7.2 million\n",
    "        Box Office Revenue: $250-291 million\n",
    "        Genre: Crime, Drama\n",
    "        Synopsis: Set in 1940s New York, \"The Godfather\" follows the powerful and secretive Corleone crime family, led by patriarch Vito Corleone. When his youngest son Michael is reluctantly drawn into the family's operations, he transforms from a reluctant outsider to a ruthless leader, navigating a world of loyalty, betrayal, and violent retribution.\n",
    "        \"\"\",\n",
    "    },\n",
    "]\n",
    "\n",
    "example_prompt = PromptTemplate.from_template(\"Human: {question}\\nAI:{answer}\")\n",
    "\n",
    "prompt = FewShotPromptTemplate(\n",
    "    example_prompt=example_prompt,\n",
    "    examples=examples,\n",
    "    suffix=\"Human: What do you know about {movie}?\",\n",
    "    input_variables=[\"movie\"],\n",
    ")\n",
    "\n",
    "chain = prompt | chat\n",
    "\n",
    "chain.invoke({\"movie\": \"Avengers: Endgame\"})"
   ]
  },
  {
   "cell_type": "code",
   "execution_count": null,
   "metadata": {},
   "outputs": [],
   "source": []
  }
 ],
 "metadata": {
  "kernelspec": {
   "display_name": "env",
   "language": "python",
   "name": "python3"
  },
  "language_info": {
   "codemirror_mode": {
    "name": "ipython",
    "version": 3
   },
   "file_extension": ".py",
   "mimetype": "text/x-python",
   "name": "python",
   "nbconvert_exporter": "python",
   "pygments_lexer": "ipython3",
   "version": "3.11.6"
  }
 },
 "nbformat": 4,
 "nbformat_minor": 2
}
