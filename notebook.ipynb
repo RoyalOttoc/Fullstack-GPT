{
 "cells": [
  {
   "cell_type": "code",
   "execution_count": 21,
   "metadata": {},
   "outputs": [
    {
     "name": "stdout",
     "output_type": "stream",
     "text": [
      "AI: 🕴️🔫🍊"
     ]
    },
    {
     "data": {
      "text/plain": [
       "'AI: 🕴️🔫🍊'"
      ]
     },
     "execution_count": 21,
     "metadata": {},
     "output_type": "execute_result"
    }
   ],
   "source": [
    "from langchain.chat_models import ChatOpenAI\n",
    "from langchain.prompts.few_shot import FewShotPromptTemplate\n",
    "from langchain.callbacks import StreamingStdOutCallbackHandler\n",
    "from langchain.prompts.prompt import PromptTemplate\n",
    "from langchain.memory import ConversationBufferMemory\n",
    "from langchain.schema import HumanMessage, AIMessage\n",
    "from langchain.chains import LLMChain\n",
    "\n",
    "chat = ChatOpenAI(\n",
    "    temperature=0.1,\n",
    "    streaming=True,\n",
    "    callbacks=[StreamingStdOutCallbackHandler()])\n",
    "\n",
    "examples = [\n",
    "    {\n",
    "        \"question\": \"What are three emojis for Titanic?\",\n",
    "        \"answer\": \"🚢❤️💔\",\n",
    "    },\n",
    "    {\n",
    "        \"question\": \"What are three emojis for Harry Potter?\",\n",
    "        \"answer\": \"⚡🧙‍♂️📚\",\n",
    "    },\n",
    "    {\n",
    "        \"question\": \"What are three emojis for the movie Avengers?\",\n",
    "        \"answer\": \"🦸‍♂️🦸‍♀️💥\",\n",
    "    },\n",
    "]\n",
    "\n",
    "example_prompt = PromptTemplate.from_template(\"Human: {question}\\nAI:{answer}\")\n",
    "\n",
    "prompt = FewShotPromptTemplate(\n",
    "    example_prompt=example_prompt,\n",
    "    examples=examples,\n",
    "    suffix=\"\"\"\n",
    "    Previous conversations:\n",
    "    {history}\n",
    "    \n",
    "    If the input is a movie name, reply with three emojis that represent the movie.\n",
    "    If the user asks \"What was the first movie I asked you about?\", reply with the name of the first movie the user asked about, in plain text only. Do not use emojis in this case.\n",
    "    \n",
    "    Human: {movie}\n",
    "    \"\"\",\n",
    "    input_variables=[\"movie\", \"history\"],\n",
    ")\n",
    "\n",
    "memory = ConversationBufferMemory(return_messages=True, memory_key=\"history\")\n",
    "chain = LLMChain(\n",
    "    llm=chat,\n",
    "    prompt=prompt,\n",
    "    memory=memory\n",
    ")\n",
    "\n",
    "\n",
    "\n",
    "\n",
    "chain.run({\"movie\": \"The godfather\"})"
   ]
  },
  {
   "cell_type": "code",
   "execution_count": 22,
   "metadata": {},
   "outputs": [
    {
     "name": "stdout",
     "output_type": "stream",
     "text": [
      "AI: 🛩️🔥🕶️"
     ]
    },
    {
     "data": {
      "text/plain": [
       "'AI: 🛩️🔥🕶️'"
      ]
     },
     "execution_count": 22,
     "metadata": {},
     "output_type": "execute_result"
    }
   ],
   "source": [
    "chain.run({\"movie\": \"Top Gun\"})\n"
   ]
  },
  {
   "cell_type": "code",
   "execution_count": 24,
   "metadata": {},
   "outputs": [
    {
     "name": "stdout",
     "output_type": "stream",
     "text": [
      "Entry 1: content='The godfather' (Type: <class 'langchain.schema.messages.HumanMessage'>)\n",
      "Entry 2: content='AI: 🕴️🔫🍊' (Type: <class 'langchain.schema.messages.AIMessage'>)\n",
      "Entry 3: content='Top Gun' (Type: <class 'langchain.schema.messages.HumanMessage'>)\n",
      "Entry 4: content='AI: 🛩️🔥🕶️' (Type: <class 'langchain.schema.messages.AIMessage'>)\n",
      "\n",
      "First Movie from Memory: The godfather\n",
      "\n"
     ]
    }
   ],
   "source": [
    "for idx, entry in enumerate(memory.buffer):\n",
    "    print(f\"Entry {idx + 1}: content='{entry.content}' (Type: {type(entry)})\")\n",
    "\n",
    "def extract_first_movie_from_memory(memory):\n",
    "\n",
    "    for entry in memory.buffer:\n",
    "        if isinstance(entry, HumanMessage):  \n",
    "            \n",
    "            first_movie = entry.content.strip()  \n",
    "            return first_movie  \n",
    "    return None  \n",
    "\n",
    "# Get the first movie from memory\n",
    "first_movie = extract_first_movie_from_memory(memory)\n",
    "print(f\"\\nFirst Movie from Memory: {first_movie}\\n\")\n"
   ]
  }
 ],
 "metadata": {
  "kernelspec": {
   "display_name": "env",
   "language": "python",
   "name": "python3"
  },
  "language_info": {
   "codemirror_mode": {
    "name": "ipython",
    "version": 3
   },
   "file_extension": ".py",
   "mimetype": "text/x-python",
   "name": "python",
   "nbconvert_exporter": "python",
   "pygments_lexer": "ipython3",
   "version": "3.11.6"
  }
 },
 "nbformat": 4,
 "nbformat_minor": 2
}
