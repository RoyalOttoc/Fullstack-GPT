{
 "cells": [
  {
   "cell_type": "code",
   "execution_count": 20,
   "metadata": {},
   "outputs": [
    {
     "data": {
      "text/plain": [
       "AIMessage(content='Yes, Jones, Aaronson, and Rutherford were guilty of the crimes they were charged with.')"
      ]
     },
     "execution_count": 20,
     "metadata": {},
     "output_type": "execute_result"
    }
   ],
   "source": [
    "from langchain.chat_models import ChatOpenAI\n",
    "from langchain.document_loaders import UnstructuredFileLoader\n",
    "from langchain.text_splitter import CharacterTextSplitter\n",
    "from langchain.embeddings import OpenAIEmbeddings, CacheBackedEmbeddings\n",
    "from langchain.vectorstores import FAISS\n",
    "from langchain.storage import LocalFileStore\n",
    "from langchain.prompts import ChatPromptTemplate\n",
    "from langchain.schema.runnable import RunnablePassthrough, RunnableMap\n",
    "from langchain.memory import ConversationBufferMemory\n",
    "\n",
    "llm = ChatOpenAI(\n",
    "    temperature=0.1,\n",
    ")\n",
    "\n",
    "cache_dir = LocalFileStore(\"./.cache/\")\n",
    "\n",
    "splitter = CharacterTextSplitter.from_tiktoken_encoder(\n",
    "    separator=\"\\n\",\n",
    "    chunk_size=600,\n",
    "    chunk_overlap=100,\n",
    ")\n",
    "loader = UnstructuredFileLoader(\"./files/document.txt\")\n",
    "\n",
    "docs = loader.load_and_split(text_splitter=splitter)\n",
    "\n",
    "embeddings = OpenAIEmbeddings()\n",
    "\n",
    "cached_embeddings = CacheBackedEmbeddings.from_bytes_store(embeddings, cache_dir)\n",
    "\n",
    "vectorstore = FAISS.from_documents(docs, cached_embeddings)\n",
    "\n",
    "retriver = vectorstore.as_retriever()\n",
    "\n",
    "memory = ConversationBufferMemory(return_messages=True, memory_key=\"context\")\n",
    "\n",
    "prompt = ChatPromptTemplate.from_messages(\n",
    "    [\n",
    "        (\n",
    "            \"system\",\n",
    "            \"You are a helpful assistant. Answer questions using only the following context. If you don't know the answer just say you don't know, don't make it up:\\n\\n{context}\",\n",
    "        ),\n",
    "        (\"human\", \"{question}\"),\n",
    "    ]\n",
    ")\n",
    "\n",
    "memory = ConversationBufferMemory(return_messages=True, memory_key=\"context\")\n",
    "\n",
    "chain = (\n",
    "    {\n",
    "       \n",
    "        \"context\": RunnableMap(\n",
    "            {\n",
    "                \"retriever_context\": retriver,\n",
    "                \"memory_context\": lambda inputs: memory.load_memory_variables({}),\n",
    "            }\n",
    "        ) \n",
    "      \n",
    "        | (lambda inputs: {\"context\": \"\\n\".join([\"\\n\".join([doc.page_content for doc in inputs[\"retriever_context\"]]), \n",
    "            inputs[\"memory_context\"].get(\"chat_history\", \"\")\n",
    "        ]\n",
    "    )\n",
    "}),\n",
    "       \n",
    "        \"question\": RunnablePassthrough(),\n",
    "    }\n",
    "   \n",
    "    | prompt\n",
    "\n",
    "    | llm\n",
    " \n",
    "    | (lambda outputs: memory.save_context({\"input\": outputs.content}, {\"output\": outputs.content}) or outputs)\n",
    ")\n",
    "\n",
    "chain.invoke(\"Is Aaronson guilty?\")"
   ]
  },
  {
   "cell_type": "code",
   "execution_count": 21,
   "metadata": {},
   "outputs": [
    {
     "data": {
      "text/plain": [
       "AIMessage(content='He wrote \"2+2=5\" in the dust on the table.')"
      ]
     },
     "execution_count": 21,
     "metadata": {},
     "output_type": "execute_result"
    }
   ],
   "source": [
    "chain.invoke(\"What message did he write in the table?\")"
   ]
  },
  {
   "cell_type": "code",
   "execution_count": 22,
   "metadata": {},
   "outputs": [
    {
     "data": {
      "text/plain": [
       "AIMessage(content='Julia is a character in the text who is mentioned as someone Winston loves and cares for deeply.')"
      ]
     },
     "execution_count": 22,
     "metadata": {},
     "output_type": "execute_result"
    }
   ],
   "source": [
    "chain.invoke(\"Who is Julia?\")"
   ]
  },
  {
   "cell_type": "code",
   "execution_count": 23,
   "metadata": {},
   "outputs": [
    {
     "name": "stdout",
     "output_type": "stream",
     "text": [
      "Entry 1: content='Yes, Jones, Aaronson, and Rutherford were guilty of the crimes they were charged with.' (Type: <class 'langchain.schema.messages.HumanMessage'>)\n",
      "Entry 2: content='Yes, Jones, Aaronson, and Rutherford were guilty of the crimes they were charged with.' (Type: <class 'langchain.schema.messages.AIMessage'>)\n",
      "Entry 3: content='He wrote \"2+2=5\" in the dust on the table.' (Type: <class 'langchain.schema.messages.HumanMessage'>)\n",
      "Entry 4: content='He wrote \"2+2=5\" in the dust on the table.' (Type: <class 'langchain.schema.messages.AIMessage'>)\n",
      "Entry 5: content='Julia is a character in the text who is mentioned as someone Winston loves and cares for deeply.' (Type: <class 'langchain.schema.messages.HumanMessage'>)\n",
      "Entry 6: content='Julia is a character in the text who is mentioned as someone Winston loves and cares for deeply.' (Type: <class 'langchain.schema.messages.AIMessage'>)\n"
     ]
    }
   ],
   "source": [
    "for idx, entry in enumerate(memory.buffer):\n",
    "    print(f\"Entry {idx + 1}: content='{entry.content}' (Type: {type(entry)})\")"
   ]
  }
 ],
 "metadata": {
  "kernelspec": {
   "display_name": "env",
   "language": "python",
   "name": "python3"
  },
  "language_info": {
   "codemirror_mode": {
    "name": "ipython",
    "version": 3
   },
   "file_extension": ".py",
   "mimetype": "text/x-python",
   "name": "python",
   "nbconvert_exporter": "python",
   "pygments_lexer": "ipython3",
   "version": "3.11.6"
  }
 },
 "nbformat": 4,
 "nbformat_minor": 2
}
